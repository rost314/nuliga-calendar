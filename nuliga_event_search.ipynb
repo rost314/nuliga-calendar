{
 "cells": [
  {
   "cell_type": "code",
   "execution_count": 1,
   "metadata": {
    "collapsed": true
   },
   "outputs": [],
   "source": [
    "import arrow\n",
    "import pandas as pd\n",
    "import bs4 as bs\n",
    "import requests\n",
    "import icalendar\n",
    "\n",
    "pd.set_option('max_colwidth', 0)"
   ]
  },
  {
   "cell_type": "code",
   "execution_count": 3,
   "metadata": {},
   "outputs": [
    {
     "name": "stdout",
     "output_type": "stream",
     "text": [
      "TC Alfeld: Herren 40 Regionsliga Gr. 409\n",
      "\"Herren 40 Regionsliga Gr. 409.ics\"\n",
      "TC Alfeld: Damen 1. Regionsklasse Gr. 039\n",
      "\"Damen 1. Regionsklasse Gr. 039.ics\"\n"
     ]
    },
    {
     "data": {
      "text/plain": "        Datum               Heimmannschaft                  Gastmannschaft  \\\n0  03.05.2020  TC GRE Hildesheim II         TC Alfeld                        \n1  10.05.2020  TC Alfeld                    Bortfelder TC e.V. von 1977      \n2  17.05.2020  TC Alfeld                    TSV Salzgitter Abt. Tennis       \n3  24.05.2020  MTV E Borsum                 TC Alfeld                        \n4  21.06.2020  TC Alfeld                    SV Anker 06 e.V. Gadenstedt II   \n5  12.07.2020  TV Eintracht Algermissen II  TC Alfeld                        \n\n                                                                                                             team_link  \n0  https://tnb.liga.nu/cgi-bin/WebObjects/nuLigaTENDE.woa/wa/teamPortrait?federation=TNB&region=DE.NO.TNB&team=2463658  \n1  https://tnb.liga.nu/cgi-bin/WebObjects/nuLigaTENDE.woa/wa/teamPortrait?federation=TNB&region=DE.NO.TNB&team=2463303  \n2  https://tnb.liga.nu/cgi-bin/WebObjects/nuLigaTENDE.woa/wa/teamPortrait?federation=TNB&region=DE.NO.TNB&team=2465131  \n3  https://tnb.liga.nu/cgi-bin/WebObjects/nuLigaTENDE.woa/wa/teamPortrait?federation=TNB&region=DE.NO.TNB&team=2465444  \n4  https://tnb.liga.nu/cgi-bin/WebObjects/nuLigaTENDE.woa/wa/teamPortrait?federation=TNB&region=DE.NO.TNB&team=2468418  \n5  https://tnb.liga.nu/cgi-bin/WebObjects/nuLigaTENDE.woa/wa/teamPortrait?federation=TNB&region=DE.NO.TNB&team=2467822  ",
      "text/html": "<div>\n<style>\n    .dataframe thead tr:only-child th {\n        text-align: right;\n    }\n\n    .dataframe thead th {\n        text-align: left;\n    }\n\n    .dataframe tbody tr th {\n        vertical-align: top;\n    }\n</style>\n<table border=\"1\" class=\"dataframe\">\n  <thead>\n    <tr style=\"text-align: right;\">\n      <th></th>\n      <th>Datum</th>\n      <th>Heimmannschaft</th>\n      <th>Gastmannschaft</th>\n      <th>team_link</th>\n    </tr>\n  </thead>\n  <tbody>\n    <tr>\n      <th>0</th>\n      <td>03.05.2020</td>\n      <td>TC GRE Hildesheim II</td>\n      <td>TC Alfeld</td>\n      <td>https://tnb.liga.nu/cgi-bin/WebObjects/nuLigaTENDE.woa/wa/teamPortrait?federation=TNB&amp;region=DE.NO.TNB&amp;team=2463658</td>\n    </tr>\n    <tr>\n      <th>1</th>\n      <td>10.05.2020</td>\n      <td>TC Alfeld</td>\n      <td>Bortfelder TC e.V. von 1977</td>\n      <td>https://tnb.liga.nu/cgi-bin/WebObjects/nuLigaTENDE.woa/wa/teamPortrait?federation=TNB&amp;region=DE.NO.TNB&amp;team=2463303</td>\n    </tr>\n    <tr>\n      <th>2</th>\n      <td>17.05.2020</td>\n      <td>TC Alfeld</td>\n      <td>TSV Salzgitter Abt. Tennis</td>\n      <td>https://tnb.liga.nu/cgi-bin/WebObjects/nuLigaTENDE.woa/wa/teamPortrait?federation=TNB&amp;region=DE.NO.TNB&amp;team=2465131</td>\n    </tr>\n    <tr>\n      <th>3</th>\n      <td>24.05.2020</td>\n      <td>MTV E Borsum</td>\n      <td>TC Alfeld</td>\n      <td>https://tnb.liga.nu/cgi-bin/WebObjects/nuLigaTENDE.woa/wa/teamPortrait?federation=TNB&amp;region=DE.NO.TNB&amp;team=2465444</td>\n    </tr>\n    <tr>\n      <th>4</th>\n      <td>21.06.2020</td>\n      <td>TC Alfeld</td>\n      <td>SV Anker 06 e.V. Gadenstedt II</td>\n      <td>https://tnb.liga.nu/cgi-bin/WebObjects/nuLigaTENDE.woa/wa/teamPortrait?federation=TNB&amp;region=DE.NO.TNB&amp;team=2468418</td>\n    </tr>\n    <tr>\n      <th>5</th>\n      <td>12.07.2020</td>\n      <td>TV Eintracht Algermissen II</td>\n      <td>TC Alfeld</td>\n      <td>https://tnb.liga.nu/cgi-bin/WebObjects/nuLigaTENDE.woa/wa/teamPortrait?federation=TNB&amp;region=DE.NO.TNB&amp;team=2467822</td>\n    </tr>\n  </tbody>\n</table>\n</div>"
     },
     "metadata": {},
     "output_type": "display_data"
    },
    {
     "data": {
      "text/plain": "        Datum                 Heimmannschaft              Gastmannschaft  \\\n0  03.05.2020  TC Alfeld                      TSV Holtensen                \n1  10.05.2020  TC Alfeld                      MTV Rosdorf von 1909 e. V.   \n2  24.05.2020  TV Blau-Weiß Einbeck e.V.      TC Alfeld                    \n3  07.06.2020  TC Alfeld                      SCW Göttingen III            \n4  21.06.2020  MTV Almstedt II                TC Alfeld                    \n5  12.07.2020  TV Rot-Weiss Bad Salzdetfurth  TC Alfeld                    \n\n                                                                                                             team_link  \n0  https://tnb.liga.nu/cgi-bin/WebObjects/nuLigaTENDE.woa/wa/teamPortrait?federation=TNB&region=DE.NO.TNB&team=2466751  \n1  https://tnb.liga.nu/cgi-bin/WebObjects/nuLigaTENDE.woa/wa/teamPortrait?federation=TNB&region=DE.NO.TNB&team=2464609  \n2  https://tnb.liga.nu/cgi-bin/WebObjects/nuLigaTENDE.woa/wa/teamPortrait?federation=TNB&region=DE.NO.TNB&team=2466718  \n3  https://tnb.liga.nu/cgi-bin/WebObjects/nuLigaTENDE.woa/wa/teamPortrait?federation=TNB&region=DE.NO.TNB&team=2462751  \n4  https://tnb.liga.nu/cgi-bin/WebObjects/nuLigaTENDE.woa/wa/teamPortrait?federation=TNB&region=DE.NO.TNB&team=2465295  \n5  https://tnb.liga.nu/cgi-bin/WebObjects/nuLigaTENDE.woa/wa/teamPortrait?federation=TNB&region=DE.NO.TNB&team=2468113  ",
      "text/html": "<div>\n<style>\n    .dataframe thead tr:only-child th {\n        text-align: right;\n    }\n\n    .dataframe thead th {\n        text-align: left;\n    }\n\n    .dataframe tbody tr th {\n        vertical-align: top;\n    }\n</style>\n<table border=\"1\" class=\"dataframe\">\n  <thead>\n    <tr style=\"text-align: right;\">\n      <th></th>\n      <th>Datum</th>\n      <th>Heimmannschaft</th>\n      <th>Gastmannschaft</th>\n      <th>team_link</th>\n    </tr>\n  </thead>\n  <tbody>\n    <tr>\n      <th>0</th>\n      <td>03.05.2020</td>\n      <td>TC Alfeld</td>\n      <td>TSV Holtensen</td>\n      <td>https://tnb.liga.nu/cgi-bin/WebObjects/nuLigaTENDE.woa/wa/teamPortrait?federation=TNB&amp;region=DE.NO.TNB&amp;team=2466751</td>\n    </tr>\n    <tr>\n      <th>1</th>\n      <td>10.05.2020</td>\n      <td>TC Alfeld</td>\n      <td>MTV Rosdorf von 1909 e. V.</td>\n      <td>https://tnb.liga.nu/cgi-bin/WebObjects/nuLigaTENDE.woa/wa/teamPortrait?federation=TNB&amp;region=DE.NO.TNB&amp;team=2464609</td>\n    </tr>\n    <tr>\n      <th>2</th>\n      <td>24.05.2020</td>\n      <td>TV Blau-Weiß Einbeck e.V.</td>\n      <td>TC Alfeld</td>\n      <td>https://tnb.liga.nu/cgi-bin/WebObjects/nuLigaTENDE.woa/wa/teamPortrait?federation=TNB&amp;region=DE.NO.TNB&amp;team=2466718</td>\n    </tr>\n    <tr>\n      <th>3</th>\n      <td>07.06.2020</td>\n      <td>TC Alfeld</td>\n      <td>SCW Göttingen III</td>\n      <td>https://tnb.liga.nu/cgi-bin/WebObjects/nuLigaTENDE.woa/wa/teamPortrait?federation=TNB&amp;region=DE.NO.TNB&amp;team=2462751</td>\n    </tr>\n    <tr>\n      <th>4</th>\n      <td>21.06.2020</td>\n      <td>MTV Almstedt II</td>\n      <td>TC Alfeld</td>\n      <td>https://tnb.liga.nu/cgi-bin/WebObjects/nuLigaTENDE.woa/wa/teamPortrait?federation=TNB&amp;region=DE.NO.TNB&amp;team=2465295</td>\n    </tr>\n    <tr>\n      <th>5</th>\n      <td>12.07.2020</td>\n      <td>TV Rot-Weiss Bad Salzdetfurth</td>\n      <td>TC Alfeld</td>\n      <td>https://tnb.liga.nu/cgi-bin/WebObjects/nuLigaTENDE.woa/wa/teamPortrait?federation=TNB&amp;region=DE.NO.TNB&amp;team=2468113</td>\n    </tr>\n  </tbody>\n</table>\n</div>"
     },
     "metadata": {},
     "output_type": "display_data"
    }
   ],
   "source": [
    "base_url = 'https://tnb.liga.nu'\n",
    "season = 'Sommer+2020'\n",
    "teams = [2467046, 2467113]\n",
    "for team in teams:\n",
    "    url = f'{base_url}/cgi-bin/WebObjects/nuLigaTENDE.woa/wa/teamPortrait?team={team}&championship=TNB+{season}'\n",
    "    [df] = pd.read_html(url, match='Mannschaft', parse_dates=True, index_col=0)\n",
    "    [portrait] = df.to_dict().values()\n",
    "\n",
    "    print(portrait['Mannschaft'], portrait['Liga'], sep=': ')\n",
    "\n",
    "    soup = bs.BeautifulSoup(requests.get(url).content, 'lxml')\n",
    "    tables = soup.find_all('table')\n",
    "    if len(tables) > 3:\n",
    "        table = tables[3]\n",
    "\n",
    "        data = []\n",
    "        links = []\n",
    "        for row in table.find_all('tr'):\n",
    "            row_data = []\n",
    "            row_links = []\n",
    "            for td in row.find_all('td'):\n",
    "                row_data.append(''.join(td.stripped_strings))\n",
    "                if td.find('a'):\n",
    "                    row_links.append(base_url + td.a['href'])\n",
    "            if row_data:\n",
    "                data.append(row_data)\n",
    "            if row_links:\n",
    "                links.append(row_links)\n",
    "\n",
    "        column_names = ['Tag', 'Datum'] + [th.text.strip() for th in table.find_all('th')][1:] or None\n",
    "        if 'Heimmannschaft' not in column_names:\n",
    "            print(column_names)\n",
    "        else:\n",
    "            df = pd.DataFrame(data, columns=column_names)\n",
    "            # display(df)\n",
    "            df_links = pd.DataFrame(links, columns=['team_link', 'meeting_link'][:len(links[0])])\n",
    "            # display(df_links)\n",
    "            t = pd.concat([df.iloc[:,1:4], df_links], axis='columns')\n",
    "            display(t)\n",
    "\n",
    "            cal = icalendar.Calendar(method='REQUEST')\n",
    "            for row in t.itertuples(index=False):\n",
    "                try:\n",
    "                    begin = arrow.get(row.Datum, 'DD.MM.YYYY HH:mm', tzinfo='Europe/Berlin')\n",
    "                except arrow.parser.ParserError:\n",
    "                    begin = arrow.get(row.Datum, 'DD.MM.YYYY', tzinfo='Europe/Berlin').replace(hour=10, minute=1)\n",
    "                event = icalendar.Event(\n",
    "                )\n",
    "                event.add('dtstart', begin.datetime)\n",
    "                event.add('dtstamp', arrow.now().datetime)\n",
    "                event.add('uid', f'{portrait[\"Liga\"]}: {row.Heimmannschaft} vs. {row.Gastmannschaft}')\n",
    "                event.add('summary',  portrait[\"Liga\"])\n",
    "                description = [f'{row.Heimmannschaft} vs. {row.Gastmannschaft}',\n",
    "                               f'<a href={url}>{portrait[\"Liga\"]}</a>',\n",
    "                               f'<a href={row.team_link}>Gegnermannschaft</a>']\n",
    "                if hasattr(row, 'meeting_link'):\n",
    "                    description.append(f'<a href={row.meeting_link}>Spielbericht</a>')\n",
    "                event.add('description', '<br>'.join(description))\n",
    "                event.add('dtstart', begin.datetime)\n",
    "                event.add('dtend', begin.shift(hours=6).datetime)\n",
    "                event.add('location', row.Heimmannschaft)\n",
    "                event.add('organizer', 'TNB')\n",
    "\n",
    "                cal.add_component(event)\n",
    "            with open(f'{portrait[\"Liga\"]}.ics', 'wb') as f:\n",
    "                f.write(cal.to_ical())\n",
    "            print(f'\"{portrait[\"Liga\"]}.ics\"')\n",
    "            #print(cal.to_ical().decode())\n",
    "    else:\n",
    "        print(tables[-1])"
   ]
  }
 ],
 "metadata": {
  "kernelspec": {
   "name": "pycharm-a5686d4d",
   "language": "python",
   "display_name": "PyCharm (nuliga-calendar)"
  },
  "language_info": {
   "codemirror_mode": {
    "name": "ipython",
    "version": 3
   },
   "file_extension": ".py",
   "mimetype": "text/x-python",
   "name": "python",
   "nbconvert_exporter": "python",
   "pygments_lexer": "ipython3",
   "version": "3.6.6"
  }
 },
 "nbformat": 4,
 "nbformat_minor": 1
}